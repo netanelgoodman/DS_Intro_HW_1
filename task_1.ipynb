{
 "cells": [
  {
   "cell_type": "code",
   "execution_count": null,
   "id": "123374da",
   "metadata": {},
   "outputs": [],
   "source": [
    "def func_A (x1,x2,x3):\n",
    "    if type(x1) is float and type(x2) is float and type(x3) is float:\n",
    "        if (x1+x2+x3) == 0:\n",
    "            print(\"Not a number – denominator equals zero\")\n",
    "        else:\n",
    "            num = ((x1+x2+x3)*(x2+x3)*x3)/(x1+x2+x3)\n",
    "            print (num)\n",
    "            return (num)\n",
    "    else:\n",
    "        print(\"Error: parameters should be float\")\n",
    "func_A(-1.0,0.0,1.0)\n",
    "\n",
    "def func_B (hours, minuates):\n",
    "    try:\n",
    "        hours = float(hours)\n",
    "        minuates = float(minuates)\n",
    "        if hours >= 0 and minuates >= 0:\n",
    "            seconds = (hours*3600) + (minuates*60)\n",
    "            print(seconds)\n",
    "            return (seconds)\n",
    "        else:\n",
    "            print(\"Input error!\")\n",
    "    except:\n",
    "        print(\"Input error!\")\n",
    "func_B(1.5,1.5)"
   ]
  }
 ],
 "metadata": {
  "kernelspec": {
   "display_name": "Python 3 (ipykernel)",
   "language": "python",
   "name": "python3"
  },
  "language_info": {
   "codemirror_mode": {
    "name": "ipython",
    "version": 3
   },
   "file_extension": ".py",
   "mimetype": "text/x-python",
   "name": "python",
   "nbconvert_exporter": "python",
   "pygments_lexer": "ipython3",
   "version": "3.9.7"
  }
 },
 "nbformat": 4,
 "nbformat_minor": 5
}
